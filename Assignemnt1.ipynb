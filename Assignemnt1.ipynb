{
 "cells": [
  {
   "cell_type": "markdown",
   "id": "125df353",
   "metadata": {},
   "source": [
    "values are :\n",
    "'hello'\n",
    "-87.8\n",
    "6\n",
    "\n",
    "epressions are: *-/ +"
   ]
  },
  {
   "cell_type": "markdown",
   "id": "43a42b40",
   "metadata": {},
   "source": [
    "A string is a datatype which is enclosed by single quotes or double quotes in python and \n",
    "a variable is used a reference for the data which we want to store. with the help of variable we can store any data and can \n",
    "retrieve it and can use it in many ways."
   ]
  },
  {
   "cell_type": "markdown",
   "id": "58210978",
   "metadata": {},
   "source": [
    "3 datatypes in python are int, complex and str.\n",
    "int datatypes are those data which are having integral numeric values ,i.e. 1, 0,-4\n",
    "complex datatypes are used for complex number i.e. 4+6j where j represent \"iota\" in math\n",
    "str is used to represent string datatypes which includes data which is enclosed by single quotes or double quotes i.e. \"ghg\",'fghf'"
   ]
  },
  {
   "cell_type": "markdown",
   "id": "11656da2",
   "metadata": {},
   "source": [
    "expressions are made up of  operators, constants and variables.\n",
    "expressions are used to do mathmateical operation in program or in other words we can say expression are used to bring down the whole thing ( i.e operators and operands )into a single value"
   ]
  },
  {
   "cell_type": "markdown",
   "id": "26518ca5",
   "metadata": {},
   "source": [
    "in the given statement, we are giving a value to the variable while in an expression we bring down the operator and operands into a single value"
   ]
  },
  {
   "cell_type": "markdown",
   "id": "bf86411e",
   "metadata": {},
   "source": [
    "23"
   ]
  },
  {
   "cell_type": "markdown",
   "id": "18e54eca",
   "metadata": {},
   "source": [
    "'spamspamspam'\n",
    "'spamspamspam'"
   ]
  },
  {
   "cell_type": "markdown",
   "id": "7adcbd38",
   "metadata": {},
   "source": [
    "Bacause a variable name cannot start from integer. A variable name can start from a letter or underscore"
   ]
  },
  {
   "cell_type": "markdown",
   "id": "06ef1b91",
   "metadata": {},
   "source": [
    "type() function is used the datatype of a values"
   ]
  },
  {
   "cell_type": "markdown",
   "id": "218b6b9b",
   "metadata": {},
   "source": [
    " because to perform string concatenation all of the operands must be string . To fix this we should do datacasting by casting int data to string data i.e.'i have eaten' + str(99) + 'burritos'"
   ]
  },
  {
   "cell_type": "markdown",
   "id": "f8c67f80",
   "metadata": {},
   "source": [
    "****************Assignment end****************"
   ]
  }
 ],
 "metadata": {
  "kernelspec": {
   "display_name": "Python 3 (ipykernel)",
   "language": "python",
   "name": "python3"
  },
  "language_info": {
   "codemirror_mode": {
    "name": "ipython",
    "version": 3
   },
   "file_extension": ".py",
   "mimetype": "text/x-python",
   "name": "python",
   "nbconvert_exporter": "python",
   "pygments_lexer": "ipython3",
   "version": "3.9.7"
  }
 },
 "nbformat": 4,
 "nbformat_minor": 5
}
