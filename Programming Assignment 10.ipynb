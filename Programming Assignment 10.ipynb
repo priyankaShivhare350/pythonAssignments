{
 "cells": [
  {
   "cell_type": "markdown",
   "id": "8ff06720",
   "metadata": {},
   "source": [
    "Write a Python program to find sum of elements in list?"
   ]
  },
  {
   "cell_type": "code",
   "execution_count": 2,
   "id": "5c8dfea6",
   "metadata": {},
   "outputs": [
    {
     "data": {
      "text/plain": [
       "99"
      ]
     },
     "execution_count": 2,
     "metadata": {},
     "output_type": "execute_result"
    }
   ],
   "source": [
    "a=[1,2,3,4,5,6,78]\n",
    "sum=0\n",
    "for i in a:\n",
    "    sum=sum+i\n",
    "sum"
   ]
  },
  {
   "cell_type": "markdown",
   "id": "3f235267",
   "metadata": {},
   "source": [
    "Write a Python program to Multiply all numbers in the list?"
   ]
  },
  {
   "cell_type": "code",
   "execution_count": 4,
   "id": "01eee4e0",
   "metadata": {},
   "outputs": [
    {
     "data": {
      "text/plain": [
       "56160"
      ]
     },
     "execution_count": 4,
     "metadata": {},
     "output_type": "execute_result"
    }
   ],
   "source": [
    "a=[1,2,3,4,5,6,78]\n",
    "sum=1\n",
    "for i in a:\n",
    "    sum=sum*i\n",
    "sum"
   ]
  },
  {
   "cell_type": "markdown",
   "id": "bc3a4961",
   "metadata": {},
   "source": [
    "Write a Python program to find smallest number in a list?"
   ]
  },
  {
   "cell_type": "code",
   "execution_count": 5,
   "id": "cfe72885",
   "metadata": {},
   "outputs": [
    {
     "data": {
      "text/plain": [
       "2"
      ]
     },
     "execution_count": 5,
     "metadata": {},
     "output_type": "execute_result"
    }
   ],
   "source": [
    "a=[2,3,5,6,7,7]\n",
    "min(a)"
   ]
  },
  {
   "cell_type": "markdown",
   "id": "f6d9cd9f",
   "metadata": {},
   "source": [
    "Write a Python program to find largest number in a list?"
   ]
  },
  {
   "cell_type": "code",
   "execution_count": 6,
   "id": "af95bc22",
   "metadata": {},
   "outputs": [
    {
     "data": {
      "text/plain": [
       "7"
      ]
     },
     "execution_count": 6,
     "metadata": {},
     "output_type": "execute_result"
    }
   ],
   "source": [
    "max(a)"
   ]
  },
  {
   "cell_type": "markdown",
   "id": "ee56c212",
   "metadata": {},
   "source": [
    "Write a Python program to find second largest number in a list?"
   ]
  },
  {
   "cell_type": "code",
   "execution_count": 14,
   "id": "396b4112",
   "metadata": {},
   "outputs": [
    {
     "data": {
      "text/plain": [
       "23"
      ]
     },
     "execution_count": 14,
     "metadata": {},
     "output_type": "execute_result"
    }
   ],
   "source": [
    "a=[23,4,6,3,2,3,4,45,5,5]\n",
    "a.sort()\n",
    "a[len(a)-2]"
   ]
  },
  {
   "cell_type": "markdown",
   "id": "5dc0f35a",
   "metadata": {},
   "source": [
    "Write a Python program to find N largest elements from a list?"
   ]
  },
  {
   "cell_type": "code",
   "execution_count": 20,
   "id": "3e7c04de",
   "metadata": {},
   "outputs": [],
   "source": [
    "def nLargest(listt,n):\n",
    "    listt.sort()\n",
    "    a=[]\n",
    "    l=len(listt)-1\n",
    "    for i in range(n):\n",
    "        a.append(listt[l-i])\n",
    "    return a"
   ]
  },
  {
   "cell_type": "code",
   "execution_count": 21,
   "id": "a3230143",
   "metadata": {},
   "outputs": [
    {
     "data": {
      "text/plain": [
       "[7, 7, 6, 6]"
      ]
     },
     "execution_count": 21,
     "metadata": {},
     "output_type": "execute_result"
    }
   ],
   "source": [
    "nLargest([4,5,6,3,2,2,3,5,6,7,7],4)"
   ]
  },
  {
   "cell_type": "markdown",
   "id": "101682b6",
   "metadata": {},
   "source": [
    "Write a Python program to print even numbers in a list?"
   ]
  },
  {
   "cell_type": "code",
   "execution_count": 26,
   "id": "de41cfbd",
   "metadata": {},
   "outputs": [
    {
     "data": {
      "text/plain": [
       "[42, 76, 4]"
      ]
     },
     "execution_count": 26,
     "metadata": {},
     "output_type": "execute_result"
    }
   ],
   "source": [
    "a=[3,42,1,76,5,4,3,3]\n",
    "b=[]\n",
    "for i in a:\n",
    "    if i%2==0:\n",
    "        b.append(i)\n",
    "b"
   ]
  },
  {
   "cell_type": "markdown",
   "id": "2133c11d",
   "metadata": {},
   "source": [
    "Write a Python program to print odd numbers in a List?"
   ]
  },
  {
   "cell_type": "code",
   "execution_count": 28,
   "id": "0d14de4c",
   "metadata": {},
   "outputs": [
    {
     "data": {
      "text/plain": [
       "[3, 1, 5, 3, 3]"
      ]
     },
     "execution_count": 28,
     "metadata": {},
     "output_type": "execute_result"
    }
   ],
   "source": [
    "a=[3,42,1,76,5,4,3,3]\n",
    "b=[]\n",
    "for i in a:\n",
    "    if i%2!=0:\n",
    "        b.append(i)\n",
    "b"
   ]
  },
  {
   "cell_type": "markdown",
   "id": "e54af701",
   "metadata": {},
   "source": [
    "Write a Python program to Remove empty List from List?"
   ]
  },
  {
   "cell_type": "code",
   "execution_count": 45,
   "id": "454d281e",
   "metadata": {},
   "outputs": [
    {
     "data": {
      "text/plain": [
       "[[2, 3], 23, 4, [4, 5, 5, 3, 2]]"
      ]
     },
     "execution_count": 45,
     "metadata": {},
     "output_type": "execute_result"
    }
   ],
   "source": [
    "a=[[2,3],23,[],4,[4,5,5,3,2],[]]\n",
    "for i in a:\n",
    "    if i==[]:\n",
    "        a.remove(i)\n",
    "a"
   ]
  },
  {
   "cell_type": "markdown",
   "id": "3350499e",
   "metadata": {},
   "source": [
    "Write a Python program to Cloning or Copying a list?"
   ]
  },
  {
   "cell_type": "code",
   "execution_count": 52,
   "id": "00396ee2",
   "metadata": {},
   "outputs": [],
   "source": [
    "a=[8,87].copy()"
   ]
  },
  {
   "cell_type": "markdown",
   "id": "68ab3697",
   "metadata": {},
   "source": [
    "Write a Python program to Count occurrences of an element in a list?"
   ]
  },
  {
   "cell_type": "code",
   "execution_count": 61,
   "id": "53cd3032",
   "metadata": {},
   "outputs": [
    {
     "data": {
      "text/plain": [
       "6"
      ]
     },
     "execution_count": 61,
     "metadata": {},
     "output_type": "execute_result"
    }
   ],
   "source": [
    "a=[5,6,4,3,3,3,3,8,3,6,6,6,6,6,3,2,12,2,2,5]\n",
    "a.count(3)"
   ]
  },
  {
   "cell_type": "code",
   "execution_count": null,
   "id": "3b0264f8",
   "metadata": {},
   "outputs": [],
   "source": []
  }
 ],
 "metadata": {
  "kernelspec": {
   "display_name": "Python 3 (ipykernel)",
   "language": "python",
   "name": "python3"
  },
  "language_info": {
   "codemirror_mode": {
    "name": "ipython",
    "version": 3
   },
   "file_extension": ".py",
   "mimetype": "text/x-python",
   "name": "python",
   "nbconvert_exporter": "python",
   "pygments_lexer": "ipython3",
   "version": "3.9.7"
  }
 },
 "nbformat": 4,
 "nbformat_minor": 5
}
