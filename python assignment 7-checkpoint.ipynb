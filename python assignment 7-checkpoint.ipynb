{
 "cells": [
  {
   "cell_type": "markdown",
   "id": "bc9a72a9",
   "metadata": {},
   "source": [
    "Write a Python Program to find sum of array?"
   ]
  },
  {
   "cell_type": "code",
   "execution_count": 1,
   "id": "c3621ba2",
   "metadata": {},
   "outputs": [
    {
     "data": {
      "text/plain": [
       "15"
      ]
     },
     "execution_count": 1,
     "metadata": {},
     "output_type": "execute_result"
    }
   ],
   "source": [
    "def sum_Array(a):\n",
    "    x=0\n",
    "    for i in a:\n",
    "        x=i+x\n",
    "    return x\n",
    "sum_Array([1,2,3,4,5])"
   ]
  },
  {
   "cell_type": "markdown",
   "id": "fc4cd27d",
   "metadata": {},
   "source": [
    "Write a Python Program to find largest element in an array?"
   ]
  },
  {
   "cell_type": "code",
   "execution_count": 2,
   "id": "92a9d04e",
   "metadata": {},
   "outputs": [
    {
     "data": {
      "text/plain": [
       "9"
      ]
     },
     "execution_count": 2,
     "metadata": {},
     "output_type": "execute_result"
    }
   ],
   "source": [
    "def max_array(a):\n",
    "    x=0\n",
    "    for i in a:\n",
    "        if i>x:\n",
    "            x=i\n",
    "    return x\n",
    "max_array([2,6,3,2,8,9,4])"
   ]
  },
  {
   "cell_type": "markdown",
   "id": "22ce0a82",
   "metadata": {},
   "source": [
    "Write a Python Program for array rotation?"
   ]
  },
  {
   "cell_type": "code",
   "execution_count": 29,
   "id": "56123928",
   "metadata": {},
   "outputs": [],
   "source": [
    "def arrayRor(arr,direction,pos):\n",
    "    x=0\n",
    "    if direction==\"right\":\n",
    "        for i in range(pos):\n",
    "            x=arr[len(arr)-1]\n",
    "            for i in range(len(arr)-1,0,-1):\n",
    "                arr[i]=arr[i-1] \n",
    "            arr[0]=x\n",
    "    if direction==\"left\":\n",
    "        for i in range(pos):\n",
    "            x=arr[0]\n",
    "            for i in range(len(arr)-1):\n",
    "                arr[i]=arr[i+1] \n",
    "            arr[len(arr)-1]=x\n",
    "    return arr"
   ]
  },
  {
   "cell_type": "code",
   "execution_count": 34,
   "id": "787a1c69",
   "metadata": {},
   "outputs": [
    {
     "data": {
      "text/plain": [
       "[4, 5, 6, 7, 8, 1, 2, 3]"
      ]
     },
     "execution_count": 34,
     "metadata": {},
     "output_type": "execute_result"
    }
   ],
   "source": [
    "arrayRor([1,2,3,4,5,6,7,8],\"left\",3)"
   ]
  },
  {
   "cell_type": "code",
   "execution_count": 35,
   "id": "4ec2d940",
   "metadata": {},
   "outputs": [
    {
     "data": {
      "text/plain": [
       "[6, 7, 8, 1, 2, 3, 4, 5]"
      ]
     },
     "execution_count": 35,
     "metadata": {},
     "output_type": "execute_result"
    }
   ],
   "source": [
    "arrayRor([1,2,3,4,5,6,7,8],\"right\",3)"
   ]
  },
  {
   "cell_type": "markdown",
   "id": "144a268a",
   "metadata": {},
   "source": [
    "Write a Python Program to Split the array and add the first part to the end?"
   ]
  },
  {
   "cell_type": "code",
   "execution_count": 9,
   "id": "391a32e5",
   "metadata": {},
   "outputs": [],
   "source": [
    "def arrSplit(arr,index):\n",
    "    first=[]\n",
    "    last=[]\n",
    "    for i in range(index+1):\n",
    "        first.append(arr[i])\n",
    "    for i in range(index+1,len(arr)):\n",
    "        last.append(arr[i])\n",
    "    return last+first\n",
    "    "
   ]
  },
  {
   "cell_type": "code",
   "execution_count": 11,
   "id": "43514123",
   "metadata": {},
   "outputs": [
    {
     "data": {
      "text/plain": [
       "[6, 7, 8, 9, 0, 1, 2, 3, 4, 5]"
      ]
     },
     "execution_count": 11,
     "metadata": {},
     "output_type": "execute_result"
    }
   ],
   "source": [
    "arrSplit([0,1,2,3,4,5,6,7,8,9],5)"
   ]
  },
  {
   "cell_type": "markdown",
   "id": "0fe88053",
   "metadata": {},
   "source": [
    "Write a Python Program to check if given array is Monotonic?"
   ]
  },
  {
   "cell_type": "code",
   "execution_count": 16,
   "id": "3e135c8f",
   "metadata": {},
   "outputs": [],
   "source": [
    "def monotonic(arr):\n",
    "    for i in range(len(arr)-1):\n",
    "        if arr[i]<=arr[i+1]:\n",
    "            continue\n",
    "        else:\n",
    "            break\n",
    "    else:\n",
    "        return True\n",
    "    for i in range(len(arr)-1):\n",
    "        if arr[i]>=arr[i+1]:\n",
    "            continue\n",
    "        else:\n",
    "            break\n",
    "    else:\n",
    "        return True\n",
    "    return False"
   ]
  },
  {
   "cell_type": "code",
   "execution_count": 19,
   "id": "985a360c",
   "metadata": {},
   "outputs": [
    {
     "data": {
      "text/plain": [
       "False"
      ]
     },
     "execution_count": 19,
     "metadata": {},
     "output_type": "execute_result"
    }
   ],
   "source": [
    "monotonic([45,67,89,345,5678,23])"
   ]
  },
  {
   "cell_type": "code",
   "execution_count": 20,
   "id": "d8248148",
   "metadata": {},
   "outputs": [
    {
     "data": {
      "text/plain": [
       "True"
      ]
     },
     "execution_count": 20,
     "metadata": {},
     "output_type": "execute_result"
    }
   ],
   "source": [
    "monotonic([45,67,89,345,5678,23890])"
   ]
  },
  {
   "cell_type": "code",
   "execution_count": 22,
   "id": "9c10bfff",
   "metadata": {},
   "outputs": [
    {
     "data": {
      "text/plain": [
       "True"
      ]
     },
     "execution_count": 22,
     "metadata": {},
     "output_type": "execute_result"
    }
   ],
   "source": [
    "monotonic([45678,12,12,10,5,4,2,1,0])"
   ]
  },
  {
   "cell_type": "code",
   "execution_count": null,
   "id": "51c5945c",
   "metadata": {},
   "outputs": [],
   "source": []
  }
 ],
 "metadata": {
  "kernelspec": {
   "display_name": "Python 3 (ipykernel)",
   "language": "python",
   "name": "python3"
  },
  "language_info": {
   "codemirror_mode": {
    "name": "ipython",
    "version": 3
   },
   "file_extension": ".py",
   "mimetype": "text/x-python",
   "name": "python",
   "nbconvert_exporter": "python",
   "pygments_lexer": "ipython3",
   "version": "3.9.7"
  }
 },
 "nbformat": 4,
 "nbformat_minor": 5
}
