{
 "cells": [
  {
   "cell_type": "markdown",
   "id": "c20add5a",
   "metadata": {},
   "source": [
    "Write a Python program to Extract Unique values dictionary values?"
   ]
  },
  {
   "cell_type": "code",
   "execution_count": 23,
   "id": "042c3b8d",
   "metadata": {},
   "outputs": [
    {
     "name": "stdout",
     "output_type": "stream",
     "text": [
      "values are \n",
      " [23, 34, 23, 45, 'mango', 'man', 'mango', [1, 2, 3], [1, 2, 4], [1, 2, 3], (1, 2), (1, 2), (1, 3)]\n",
      "unique values are  : 34 , 45 , man , [1, 2, 4] , (1, 3) , "
     ]
    }
   ],
   "source": [
    "dict_1={\"key1\":23,\"key2\":34,\"key3\":23,\"key4\":45,\"key5\":\"mango\",\"key6\":\"man\",\"key7\":\"mango\",\"key8\":[1,2,3],\n",
    "        \"key9\":[1,2,4],\"key10\":[1,2,3],\"key11\":(1,2),\"key12\":(1,2),\"key13\":(1,3)}\n",
    "\n",
    "l1=list(dict_1.values())\n",
    "print(\"values are \\n\",l1)\n",
    "print(\"unique values are \",end=\" : \")\n",
    "for i in l1:\n",
    "    \n",
    "    if l1.count(i)==1:\n",
    "        print(i,end=\" , \")"
   ]
  },
  {
   "cell_type": "markdown",
   "id": "a3adfdce",
   "metadata": {},
   "source": [
    "Write a Python program to find the sum of all items in a dictionary?"
   ]
  },
  {
   "cell_type": "code",
   "execution_count": 25,
   "id": "4efcb43e",
   "metadata": {},
   "outputs": [
    {
     "data": {
      "text/plain": [
       "290"
      ]
     },
     "execution_count": 25,
     "metadata": {},
     "output_type": "execute_result"
    }
   ],
   "source": [
    "dict_1={\"key1\":23,\"key2\":34,\"key3\":23,\"key4\":45,\"key5\":67,\"key6\":23,\"key7\":8,\"key8\":67}\n",
    "sum(dict_1.values())"
   ]
  },
  {
   "cell_type": "markdown",
   "id": "ee8e8d14",
   "metadata": {},
   "source": [
    "Write a Python program to Merging two Dictionaries?"
   ]
  },
  {
   "cell_type": "code",
   "execution_count": 30,
   "id": "84fb6529",
   "metadata": {},
   "outputs": [
    {
     "data": {
      "text/plain": [
       "{1: 2, 2: 4, 3: 6, 4: 8, 5: 10, 6: 12}"
      ]
     },
     "execution_count": 30,
     "metadata": {},
     "output_type": "execute_result"
    }
   ],
   "source": [
    "d1={1:2,2:4,3:6}\n",
    "d2={4:8,5:10,6:12}\n",
    "d1.update(d2)\n",
    "d1"
   ]
  },
  {
   "cell_type": "markdown",
   "id": "894a133c",
   "metadata": {},
   "source": [
    "Write a Python program to convert key-values list to flat dictionary?"
   ]
  },
  {
   "cell_type": "code",
   "execution_count": 31,
   "id": "4a7ca441",
   "metadata": {},
   "outputs": [
    {
     "data": {
      "text/plain": [
       "{1: 2, 2: 4, 3: 6, 4: 8, 5: 10}"
      ]
     },
     "execution_count": 31,
     "metadata": {},
     "output_type": "execute_result"
    }
   ],
   "source": [
    "key_list=[1,2,3,4,5]\n",
    "values_list=[2,4,6,8,10]\n",
    "d={}\n",
    "for i in range(len(key_list)):\n",
    "    d[key_list[i]]=values_list[i]\n",
    "d"
   ]
  },
  {
   "cell_type": "markdown",
   "id": "d42cddc4",
   "metadata": {},
   "source": [
    "Write a Python program to insertion at the beginning in OrderedDict?"
   ]
  },
  {
   "cell_type": "code",
   "execution_count": 33,
   "id": "fbe8cca2",
   "metadata": {},
   "outputs": [
    {
     "data": {
      "text/plain": [
       "{1: 2, 2: 4, 3: 6, 4: 8, 5: 10}"
      ]
     },
     "execution_count": 33,
     "metadata": {},
     "output_type": "execute_result"
    }
   ],
   "source": [
    "d={2: 4, 3: 6, 4: 8, 5: 10}\n",
    "#item to be inserted 1:2\n",
    "d1={1:2}\n",
    "d1.update(d)\n",
    "d1"
   ]
  },
  {
   "cell_type": "code",
   "execution_count": 46,
   "id": "d222d753",
   "metadata": {},
   "outputs": [
    {
     "data": {
      "text/plain": [
       "OrderedDict([(0, 0), (1, 2), (2, 4), (3, 6)])"
      ]
     },
     "execution_count": 46,
     "metadata": {},
     "output_type": "execute_result"
    }
   ],
   "source": [
    "#using ordered dict\n",
    "\n",
    "from collections import OrderedDict\n",
    "ordic=OrderedDict([(1,2),(2,4),(3,6)])\n",
    "ordic.update([(0,0)])\n",
    "ordic.move_to_end(0,last=False)\n",
    "ordic"
   ]
  },
  {
   "cell_type": "markdown",
   "id": "082a1626",
   "metadata": {},
   "source": [
    "Write a Python program to check order of character in string using OrderedDict()?"
   ]
  },
  {
   "cell_type": "code",
   "execution_count": 61,
   "id": "7a151a33",
   "metadata": {},
   "outputs": [
    {
     "name": "stdout",
     "output_type": "stream",
     "text": [
      "yes the pattern order is followed in string\n"
     ]
    }
   ],
   "source": [
    "string=\"paav bhaajji\"\n",
    "patter=\"abj\"\n",
    "or_dict=OrderedDict.fromkeys(string)\n",
    "j=0\n",
    "for i in or_dict.keys():\n",
    "    if i==patter[j]:\n",
    "        j+=1\n",
    "    if j==len(patter):\n",
    "        print(\"yes the pattern order is followed in string\")\n",
    "        break"
   ]
  },
  {
   "cell_type": "code",
   "execution_count": 59,
   "id": "b303827e",
   "metadata": {},
   "outputs": [
    {
     "name": "stdout",
     "output_type": "stream",
     "text": [
      "no the pattern order is not followed in string\n"
     ]
    }
   ],
   "source": [
    "string=\"paav bhaajji\"\n",
    "patter=\"bha\"\n",
    "or_dict=OrderedDict.fromkeys(string)\n",
    "j=0\n",
    "for i in or_dict.keys():\n",
    "    if i==patter[j]:\n",
    "        j+=1\n",
    "    if j==len(patter):\n",
    "        print(\"yes the pattern order is followed in string\")\n",
    "        break\n",
    "else:\n",
    "    print(\"no the pattern order is not followed in string\")"
   ]
  },
  {
   "cell_type": "markdown",
   "id": "66e8f81e",
   "metadata": {},
   "source": [
    "Write a Python program to sort Python Dictionaries by Key or Value?"
   ]
  },
  {
   "cell_type": "code",
   "execution_count": 4,
   "id": "7fe8d984",
   "metadata": {},
   "outputs": [
    {
     "data": {
      "text/plain": [
       "{4: 0, 2: 1, 1: 4, 6: 7, 3: 8, 5: 23}"
      ]
     },
     "execution_count": 4,
     "metadata": {},
     "output_type": "execute_result"
    }
   ],
   "source": [
    "##order by values\n",
    "d1={1:4,2:1,3:8,4:0,5:23,6:7}\n",
    "l=[]\n",
    "items=d1.items()\n",
    "for keys,values in items:\n",
    "    l.append(tuple([values,keys]))\n",
    "l.sort()\n",
    "orderBYValueDict={}\n",
    "for values,keys in l:\n",
    "    orderBYValueDict[keys]=values\n",
    "orderBYValueDict"
   ]
  },
  {
   "cell_type": "code",
   "execution_count": 8,
   "id": "7bb552a8",
   "metadata": {},
   "outputs": [
    {
     "data": {
      "text/plain": [
       "{0: 4, 5: 3, 11: 6, 16: 7, 23: 1, 34: 2, 95: 5}"
      ]
     },
     "execution_count": 8,
     "metadata": {},
     "output_type": "execute_result"
    }
   ],
   "source": [
    "###order by keys\n",
    "d1={23:1,34:2,5:3,0:4,95:5,11:6,16:7}\n",
    "x=sorted(d1)\n",
    "orderBYKeysDict={}\n",
    "for keys in x:\n",
    "     orderBYKeysDict[keys]=d1[keys]\n",
    "orderBYKeysDict"
   ]
  },
  {
   "cell_type": "code",
   "execution_count": null,
   "id": "2451e17c",
   "metadata": {},
   "outputs": [],
   "source": []
  }
 ],
 "metadata": {
  "kernelspec": {
   "display_name": "Python 3 (ipykernel)",
   "language": "python",
   "name": "python3"
  },
  "language_info": {
   "codemirror_mode": {
    "name": "ipython",
    "version": 3
   },
   "file_extension": ".py",
   "mimetype": "text/x-python",
   "name": "python",
   "nbconvert_exporter": "python",
   "pygments_lexer": "ipython3",
   "version": "3.9.7"
  }
 },
 "nbformat": 4,
 "nbformat_minor": 5
}
