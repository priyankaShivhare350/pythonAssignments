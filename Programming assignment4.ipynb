{
 "cells": [
  {
   "cell_type": "markdown",
   "id": "119d7ba6",
   "metadata": {},
   "source": [
    "Write a Python Program to Find the Factorial of a Number?"
   ]
  },
  {
   "cell_type": "code",
   "execution_count": 5,
   "id": "71233b2e",
   "metadata": {},
   "outputs": [
    {
     "data": {
      "text/plain": [
       "120"
      ]
     },
     "execution_count": 5,
     "metadata": {},
     "output_type": "execute_result"
    }
   ],
   "source": [
    "def fact(a):\n",
    "    fact=1\n",
    "    for x in range(a):\n",
    "        fact=fact *(x+1)\n",
    "    return fact\n",
    "fact(5)"
   ]
  },
  {
   "cell_type": "markdown",
   "id": "31e4abe3",
   "metadata": {},
   "source": [
    "Write a Python Program to Display the multiplication Table?"
   ]
  },
  {
   "cell_type": "code",
   "execution_count": 7,
   "id": "e58e9eb5",
   "metadata": {},
   "outputs": [
    {
     "data": {
      "text/plain": [
       "[3, 6, 9, 12, 15, 18, 21, 24, 27, 30]"
      ]
     },
     "execution_count": 7,
     "metadata": {},
     "output_type": "execute_result"
    }
   ],
   "source": [
    "def table(a):\n",
    "    l=[]\n",
    "    for i in range(1,11):\n",
    "        l.append(a*i)\n",
    "    return l\n",
    "table(3)   "
   ]
  },
  {
   "cell_type": "markdown",
   "id": "cbf3d122",
   "metadata": {},
   "source": [
    "Write a Python Program to Print the Fibonacci sequence?"
   ]
  },
  {
   "cell_type": "code",
   "execution_count": 29,
   "id": "4dea19e0",
   "metadata": {},
   "outputs": [
    {
     "data": {
      "text/plain": [
       "34"
      ]
     },
     "execution_count": 29,
     "metadata": {},
     "output_type": "execute_result"
    }
   ],
   "source": [
    "def fibo(x):\n",
    "    a=0\n",
    "    b=0\n",
    "    fib=1\n",
    "    for i in range(x-1):\n",
    "        a=b   \n",
    "        b=fib    \n",
    "        fib=a+b   \n",
    "    return fib\n",
    "fibo(9)"
   ]
  },
  {
   "cell_type": "markdown",
   "id": "601f7e25",
   "metadata": {},
   "source": [
    "Write a Python Program to Check Armstrong Number?"
   ]
  },
  {
   "cell_type": "code",
   "execution_count": 76,
   "id": "61a93c44",
   "metadata": {},
   "outputs": [
    {
     "data": {
      "text/plain": [
       "False"
      ]
     },
     "execution_count": 76,
     "metadata": {},
     "output_type": "execute_result"
    }
   ],
   "source": [
    "def armstrong(a):\n",
    "    b=len(str(a))\n",
    "    x=0\n",
    "    c=int(a)\n",
    "    for i in range(b):\n",
    "        x=((c%10)**b)+x\n",
    "        c=int(c/10)\n",
    "    if(a==x):\n",
    "        return True\n",
    "    else:\n",
    "        return False\n",
    "armstrong(372)"
   ]
  },
  {
   "cell_type": "markdown",
   "id": "ae70374f",
   "metadata": {},
   "source": [
    "Write a Python Program to Find Armstrong Number in an Interval?"
   ]
  },
  {
   "cell_type": "code",
   "execution_count": 83,
   "id": "a51f5424",
   "metadata": {},
   "outputs": [
    {
     "data": {
      "text/plain": [
       "[1634, 8208, 9474]"
      ]
     },
     "execution_count": 83,
     "metadata": {},
     "output_type": "execute_result"
    }
   ],
   "source": [
    "def armInt(lower,upper):\n",
    "    l=[]\n",
    "    for i in range(lower,upper+1):\n",
    "        if(armstrong(i)==True):\n",
    "            l.append(i)\n",
    "    return l\n",
    "    \n",
    "armInt(1000,9999)"
   ]
  },
  {
   "cell_type": "markdown",
   "id": "3ef9df85",
   "metadata": {},
   "source": [
    "Write a Python Program to Find the Sum of Natural Numbers?"
   ]
  },
  {
   "cell_type": "code",
   "execution_count": 88,
   "id": "cdfb9c7c",
   "metadata": {},
   "outputs": [
    {
     "data": {
      "text/plain": [
       "10"
      ]
     },
     "execution_count": 88,
     "metadata": {},
     "output_type": "execute_result"
    }
   ],
   "source": [
    "def sum(*args):\n",
    "    a=0\n",
    "    for i in args:\n",
    "        a=a+i\n",
    "    return a\n",
    "sum(1,2,3,4)    "
   ]
  },
  {
   "cell_type": "code",
   "execution_count": null,
   "id": "4106f487",
   "metadata": {},
   "outputs": [],
   "source": []
  }
 ],
 "metadata": {
  "kernelspec": {
   "display_name": "Python 3 (ipykernel)",
   "language": "python",
   "name": "python3"
  },
  "language_info": {
   "codemirror_mode": {
    "name": "ipython",
    "version": 3
   },
   "file_extension": ".py",
   "mimetype": "text/x-python",
   "name": "python",
   "nbconvert_exporter": "python",
   "pygments_lexer": "ipython3",
   "version": "3.9.7"
  }
 },
 "nbformat": 4,
 "nbformat_minor": 5
}
