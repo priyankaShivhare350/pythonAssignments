{
 "cells": [
  {
   "cell_type": "raw",
   "id": "badd8a37",
   "metadata": {},
   "source": [
    "Write a Python program to check if the given number is a Disarium Number?"
   ]
  },
  {
   "cell_type": "code",
   "execution_count": 8,
   "id": "e227aadb",
   "metadata": {},
   "outputs": [],
   "source": [
    "def Disarium(a):\n",
    "    b=str(a)\n",
    "    c=0\n",
    "    for i in range(len(b)):\n",
    "        c=c+((int(b[i]))**(i+1))\n",
    "    if a==c:\n",
    "        return True\n",
    "    else:\n",
    "        return False"
   ]
  },
  {
   "cell_type": "code",
   "execution_count": 10,
   "id": "5ca4478a",
   "metadata": {},
   "outputs": [
    {
     "data": {
      "text/plain": [
       "False"
      ]
     },
     "execution_count": 10,
     "metadata": {},
     "output_type": "execute_result"
    }
   ],
   "source": [
    "Disarium(898)"
   ]
  },
  {
   "cell_type": "markdown",
   "id": "f05127ad",
   "metadata": {},
   "source": [
    "Write a Python program to print all disarium numbers between 1 to 100?"
   ]
  },
  {
   "cell_type": "code",
   "execution_count": 16,
   "id": "ff348443",
   "metadata": {},
   "outputs": [
    {
     "data": {
      "text/plain": [
       "[1, 2, 3, 4, 5, 6, 7, 8, 9, 89]"
      ]
     },
     "execution_count": 16,
     "metadata": {},
     "output_type": "execute_result"
    }
   ],
   "source": [
    "l=[]\n",
    "for i in range(1,101):\n",
    "    if Disarium(i)==True:\n",
    "        l.append(i)\n",
    "l        "
   ]
  },
  {
   "cell_type": "markdown",
   "id": "1e8beb60",
   "metadata": {},
   "source": [
    "Write a Python program to check if the given number is Happy Number?"
   ]
  },
  {
   "cell_type": "code",
   "execution_count": 44,
   "id": "890a200b",
   "metadata": {},
   "outputs": [],
   "source": [
    "def sumSqr(a):\n",
    "    x=0\n",
    "    for i in range(len(str(a))):\n",
    "        x=x+(int((str(a)[i]))**2)\n",
    "    return x\n",
    "def HappyNumber(a):\n",
    "    l=[]\n",
    "    b=int(a)   \n",
    "    m=''\n",
    "    while m!= a:\n",
    "        m=sumSqr(b)  \n",
    "        b=m        \n",
    "        if m in l:\n",
    "            return \"not a happy number\"\n",
    "        elif m==1:\n",
    "            return \"its a happy number\"\n",
    "        else:\n",
    "            l.append(m)  "
   ]
  },
  {
   "cell_type": "code",
   "execution_count": 45,
   "id": "3a9346af",
   "metadata": {},
   "outputs": [
    {
     "data": {
      "text/plain": [
       "'not a happy number'"
      ]
     },
     "execution_count": 45,
     "metadata": {},
     "output_type": "execute_result"
    }
   ],
   "source": [
    "HappyNumber(83)"
   ]
  },
  {
   "cell_type": "code",
   "execution_count": 46,
   "id": "b0f7a6d5",
   "metadata": {},
   "outputs": [
    {
     "data": {
      "text/plain": [
       "'its a happy number'"
      ]
     },
     "execution_count": 46,
     "metadata": {},
     "output_type": "execute_result"
    }
   ],
   "source": [
    "HappyNumber(82)"
   ]
  },
  {
   "cell_type": "markdown",
   "id": "5d35bca3",
   "metadata": {},
   "source": [
    "Write a Python program to print all happy numbers between 1 and 100?"
   ]
  },
  {
   "cell_type": "code",
   "execution_count": 48,
   "id": "a36f1ebb",
   "metadata": {},
   "outputs": [
    {
     "data": {
      "text/plain": [
       "[1, 7, 10, 13, 19, 23, 28, 31, 32, 44, 49, 68, 70, 79, 82, 86, 91, 94, 97, 100]"
      ]
     },
     "execution_count": 48,
     "metadata": {},
     "output_type": "execute_result"
    }
   ],
   "source": [
    "l=[]\n",
    "for i in range(1,101):\n",
    "    if HappyNumber(i)=='its a happy number':\n",
    "        l.append(i)\n",
    "l\n",
    "        "
   ]
  },
  {
   "cell_type": "markdown",
   "id": "c1b62964",
   "metadata": {},
   "source": [
    "Write a Python program to determine whether the given number is a Harshad Number?"
   ]
  },
  {
   "cell_type": "code",
   "execution_count": 51,
   "id": "675232e6",
   "metadata": {},
   "outputs": [],
   "source": [
    "def SumOfDigit(a):\n",
    "    x=0\n",
    "    for i in range(len(str(a))):\n",
    "        x=x+int(str(a)[i])\n",
    "    return x\n",
    "def HarshdNumber(a):\n",
    "    if a % (SumOfDigit(a)) == 0:\n",
    "        return \"its a harshad number\"\n",
    "    else:\n",
    "        return \"its not a harshad number\""
   ]
  },
  {
   "cell_type": "code",
   "execution_count": 52,
   "id": "ed8f1b96",
   "metadata": {},
   "outputs": [
    {
     "data": {
      "text/plain": [
       "'its a harshad number'"
      ]
     },
     "execution_count": 52,
     "metadata": {},
     "output_type": "execute_result"
    }
   ],
   "source": [
    "HarshdNumber(156)"
   ]
  },
  {
   "cell_type": "code",
   "execution_count": 53,
   "id": "2aa5aae4",
   "metadata": {},
   "outputs": [
    {
     "data": {
      "text/plain": [
       "'its not a harshad number'"
      ]
     },
     "execution_count": 53,
     "metadata": {},
     "output_type": "execute_result"
    }
   ],
   "source": [
    "HarshdNumber(157)"
   ]
  },
  {
   "cell_type": "markdown",
   "id": "f248cd30",
   "metadata": {},
   "source": [
    "Write a Python program to print all pronic numbers between 1 and 100?"
   ]
  },
  {
   "cell_type": "code",
   "execution_count": 57,
   "id": "484b6c45",
   "metadata": {},
   "outputs": [
    {
     "data": {
      "text/plain": [
       "[2, 6, 12, 20, 30, 42, 56, 72, 90]"
      ]
     },
     "execution_count": 57,
     "metadata": {},
     "output_type": "execute_result"
    }
   ],
   "source": [
    "def pronicNumber(a):\n",
    "    import math as m\n",
    "    x=int(m.sqrt(a))\n",
    "    if x*(x+1)==a:\n",
    "        return True\n",
    "l=[]\n",
    "for i in range(1,101):\n",
    "    if pronicNumber(i):\n",
    "        l.append(i)\n",
    "l"
   ]
  }
 ],
 "metadata": {
  "kernelspec": {
   "display_name": "Python 3 (ipykernel)",
   "language": "python",
   "name": "python3"
  },
  "language_info": {
   "codemirror_mode": {
    "name": "ipython",
    "version": 3
   },
   "file_extension": ".py",
   "mimetype": "text/x-python",
   "name": "python",
   "nbconvert_exporter": "python",
   "pygments_lexer": "ipython3",
   "version": "3.9.7"
  }
 },
 "nbformat": 4,
 "nbformat_minor": 5
}
