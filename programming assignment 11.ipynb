{
 "cells": [
  {
   "cell_type": "markdown",
   "id": "3ca9f504",
   "metadata": {},
   "source": [
    "Write a Python program to find words which are greater than given length k?"
   ]
  },
  {
   "cell_type": "code",
   "execution_count": 3,
   "id": "03244b23",
   "metadata": {},
   "outputs": [],
   "source": [
    "def test(a,*args):\n",
    "    l=[]\n",
    "    for i in args:\n",
    "        if len(i)>a:\n",
    "            l.append(i)\n",
    "    return l"
   ]
  },
  {
   "cell_type": "code",
   "execution_count": 4,
   "id": "c87bed6a",
   "metadata": {},
   "outputs": [
    {
     "data": {
      "text/plain": [
       "['dsfsdf', 'dsffsd']"
      ]
     },
     "execution_count": 4,
     "metadata": {},
     "output_type": "execute_result"
    }
   ],
   "source": [
    "test(5,\"fdf\",\"dsfsdf\",\"dfsd\",\"dsffsd\")"
   ]
  },
  {
   "cell_type": "markdown",
   "id": "3597d708",
   "metadata": {},
   "source": [
    "Write a Python program for removing i-th character from a string?"
   ]
  },
  {
   "cell_type": "code",
   "execution_count": 10,
   "id": "7ea046b4",
   "metadata": {},
   "outputs": [
    {
     "data": {
      "text/plain": [
       "'aple'"
      ]
     },
     "execution_count": 10,
     "metadata": {},
     "output_type": "execute_result"
    }
   ],
   "source": [
    "def remove_i(string, i):\n",
    "    c=0\n",
    "    j=''\n",
    "    for i in \"apple\":\n",
    "        if c!=2:\n",
    "            j=j+i\n",
    "        c=c+1\n",
    "    return j   \n",
    "test(\"apple\",3)"
   ]
  },
  {
   "cell_type": "markdown",
   "id": "5dfd899a",
   "metadata": {},
   "source": [
    "Write a Python program to split and join a string?"
   ]
  },
  {
   "cell_type": "code",
   "execution_count": 12,
   "id": "4d5be59e",
   "metadata": {},
   "outputs": [
    {
     "data": {
      "text/plain": [
       "['m', 'a', 'n', 'g', 'o', 'b', 'a', 'r']"
      ]
     },
     "execution_count": 12,
     "metadata": {},
     "output_type": "execute_result"
    }
   ],
   "source": [
    "## to split a string\n",
    "def split(string):\n",
    "    a=[]\n",
    "    for i in string:\n",
    "        a.append(i)\n",
    "    return a\n",
    "split(\"mangobar\")"
   ]
  },
  {
   "cell_type": "code",
   "execution_count": 16,
   "id": "1da4cd1b",
   "metadata": {},
   "outputs": [
    {
     "data": {
      "text/plain": [
       "'agjg'"
      ]
     },
     "execution_count": 16,
     "metadata": {},
     "output_type": "execute_result"
    }
   ],
   "source": [
    "### to join a string\n",
    "def join(*args):\n",
    "    j=''\n",
    "    for i in args:\n",
    "        j=j+i\n",
    "    return j\n",
    "join('a','g','j','g')"
   ]
  },
  {
   "cell_type": "code",
   "execution_count": 34,
   "id": "dc9025f2",
   "metadata": {},
   "outputs": [
    {
     "data": {
      "text/plain": [
       "['my', 'name', 'is', 'baby']"
      ]
     },
     "execution_count": 34,
     "metadata": {},
     "output_type": "execute_result"
    }
   ],
   "source": [
    "## to split string using space\n",
    "s=\"my name is baby\"\n",
    "s.split(\" \")"
   ]
  },
  {
   "cell_type": "code",
   "execution_count": 35,
   "id": "59b2db80",
   "metadata": {},
   "outputs": [
    {
     "data": {
      "text/plain": [
       "'my  name  is  baby'"
      ]
     },
     "execution_count": 35,
     "metadata": {},
     "output_type": "execute_result"
    }
   ],
   "source": [
    "## to join words of string\n",
    "splitString=s.split()\n",
    "str(splitString).removeprefix('[').removesuffix(']').replace(\"'\",\"\").replace(\",\",\" \")"
   ]
  },
  {
   "cell_type": "markdown",
   "id": "47479b80",
   "metadata": {},
   "source": [
    "Write a Python to check if a given string is binary string or not?"
   ]
  },
  {
   "cell_type": "code",
   "execution_count": 20,
   "id": "f3a21901",
   "metadata": {},
   "outputs": [
    {
     "data": {
      "text/plain": [
       "'its a binary string'"
      ]
     },
     "execution_count": 20,
     "metadata": {},
     "output_type": "execute_result"
    }
   ],
   "source": [
    "def CheckBinaryString(string):\n",
    "    for i in string:\n",
    "        if i=='0' or i=='1':\n",
    "            pass\n",
    "        else:\n",
    "            return \"Not a binary string\"\n",
    "    else:\n",
    "        return \"its a binary string\"\n",
    "CheckBinaryString(\"010101010000111\")"
   ]
  },
  {
   "cell_type": "code",
   "execution_count": 21,
   "id": "e1e83206",
   "metadata": {},
   "outputs": [
    {
     "data": {
      "text/plain": [
       "'Not a binary string'"
      ]
     },
     "execution_count": 21,
     "metadata": {},
     "output_type": "execute_result"
    }
   ],
   "source": [
    "CheckBinaryString(\"0110098juu\")"
   ]
  },
  {
   "cell_type": "markdown",
   "id": "8318edaa",
   "metadata": {},
   "source": [
    "Write a Python program to find uncommon words from two Strings?"
   ]
  },
  {
   "cell_type": "code",
   "execution_count": 42,
   "id": "b0b9a9cf",
   "metadata": {},
   "outputs": [
    {
     "name": "stdout",
     "output_type": "stream",
     "text": [
      "['abc', 'pqr', 'father', 'xyz']\n"
     ]
    }
   ],
   "source": [
    "## for finding uncommon word in sentence\n",
    "\n",
    "s1=\"my name is abc singh pqr\"\n",
    "s2=\"my father name is xyz singh\"\n",
    "l1=s1.split()\n",
    "l2=s2.split()\n",
    "l=[]\n",
    "for i in l1:\n",
    "    if i not in l2:\n",
    "        l.append(i)\n",
    "for j in l2:\n",
    "    if j not in l1:\n",
    "        l.append(j)\n",
    "print(l)"
   ]
  },
  {
   "cell_type": "code",
   "execution_count": 43,
   "id": "8f2f9b56",
   "metadata": {},
   "outputs": [
    {
     "data": {
      "text/plain": [
       "{'M', 'd', 'm', 'n', 'r', 'z'}"
      ]
     },
     "execution_count": 43,
     "metadata": {},
     "output_type": "execute_result"
    }
   ],
   "source": [
    "## for finding uncommon char in word\n",
    "def uncommon(str1,str2):\n",
    "    n1=''\n",
    "    n2=''\n",
    "    for i in str1:\n",
    "        if i not in str2:\n",
    "            n1=n1+i\n",
    "    for j in str2:\n",
    "        if j not in str1:\n",
    "            n2=n2+j\n",
    "    return set(sorted(n1+n2)) \n",
    "uncommon(\"pepsiMrinda\",\"mazapepsi\")"
   ]
  },
  {
   "cell_type": "markdown",
   "id": "181e9225",
   "metadata": {},
   "source": [
    "Write a Python to find all duplicate characters in string?"
   ]
  },
  {
   "cell_type": "code",
   "execution_count": 63,
   "id": "19a94a81",
   "metadata": {},
   "outputs": [
    {
     "name": "stdout",
     "output_type": "stream",
     "text": [
      "{'a', 'm', 'n'}\n"
     ]
    }
   ],
   "source": [
    "s=\"mangogomangogo\"\n",
    "a=list(s)\n",
    "b=''\n",
    "for i in list(a):\n",
    "    if list(a).count(i)==2:\n",
    "        b=b+i\n",
    "else:\n",
    "    print(set(b))\n",
    "        \n",
    "        "
   ]
  },
  {
   "cell_type": "markdown",
   "id": "91553359",
   "metadata": {},
   "source": [
    "Write a Python Program to check if a string contains any special character?"
   ]
  },
  {
   "cell_type": "code",
   "execution_count": 73,
   "id": "9b890c84",
   "metadata": {},
   "outputs": [
    {
     "data": {
      "text/plain": [
       "False"
      ]
     },
     "execution_count": 73,
     "metadata": {},
     "output_type": "execute_result"
    }
   ],
   "source": [
    "s=\"gd@^%&*!bjhd234\"\n",
    "s.isalnum()"
   ]
  },
  {
   "cell_type": "code",
   "execution_count": 74,
   "id": "59fc9d40",
   "metadata": {},
   "outputs": [
    {
     "data": {
      "text/plain": [
       "True"
      ]
     },
     "execution_count": 74,
     "metadata": {},
     "output_type": "execute_result"
    }
   ],
   "source": [
    "s=\"23789djsf\"\n",
    "s.isalnum()"
   ]
  },
  {
   "cell_type": "code",
   "execution_count": 75,
   "id": "b959ad90",
   "metadata": {},
   "outputs": [
    {
     "data": {
      "text/plain": [
       "True"
      ]
     },
     "execution_count": 75,
     "metadata": {},
     "output_type": "execute_result"
    }
   ],
   "source": [
    "s=\"456\"\n",
    "s.isalnum()"
   ]
  },
  {
   "cell_type": "code",
   "execution_count": 76,
   "id": "d97059cd",
   "metadata": {},
   "outputs": [
    {
     "data": {
      "text/plain": [
       "True"
      ]
     },
     "execution_count": 76,
     "metadata": {},
     "output_type": "execute_result"
    }
   ],
   "source": [
    "s=\"jdh\"\n",
    "s.isalnum()"
   ]
  },
  {
   "cell_type": "code",
   "execution_count": null,
   "id": "940a8229",
   "metadata": {},
   "outputs": [],
   "source": []
  }
 ],
 "metadata": {
  "kernelspec": {
   "display_name": "Python 3 (ipykernel)",
   "language": "python",
   "name": "python3"
  },
  "language_info": {
   "codemirror_mode": {
    "name": "ipython",
    "version": 3
   },
   "file_extension": ".py",
   "mimetype": "text/x-python",
   "name": "python",
   "nbconvert_exporter": "python",
   "pygments_lexer": "ipython3",
   "version": "3.9.7"
  }
 },
 "nbformat": 4,
 "nbformat_minor": 5
}
