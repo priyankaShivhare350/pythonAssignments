{
 "cells": [
  {
   "cell_type": "markdown",
   "id": "3e1789a9",
   "metadata": {},
   "source": [
    "Write a Python Program to Find LCM?"
   ]
  },
  {
   "cell_type": "code",
   "execution_count": 60,
   "id": "a50677ec",
   "metadata": {},
   "outputs": [],
   "source": [
    "import math\n",
    "def multiple(num):\n",
    "    x=num\n",
    "    a=x\n",
    "    l=[]\n",
    "    for i in range(2,x+1):\n",
    "        flag=1\n",
    "        while flag==1:\n",
    "            if a%i!=0:\n",
    "                flag=0  \n",
    "            else:\n",
    "                l.append(i) \n",
    "                a=a/i\n",
    "    return l\n",
    "    \n",
    "def lcmTwo(x,y):\n",
    "    mulx=multiple(x)\n",
    "    muly=multiple(y)\n",
    "    for i in mulx:\n",
    "        if i in muly:\n",
    "            muly.remove(i)\n",
    "    mulx=mulx+muly\n",
    "    a=math.prod(mulx)\n",
    "    return a\n",
    "\n",
    "def lcmThree(x,y,z):\n",
    "    mulx=multiple(x)\n",
    "    muly=multiple(y)\n",
    "    mulz=multiple(z)\n",
    "    for i in mulx:\n",
    "        if i in muly:\n",
    "            muly.remove(i)\n",
    "        if i in mulz:\n",
    "            mulz.remove(i)\n",
    "    for i in muly:\n",
    "        if i in mulz:\n",
    "            mulz.remove(i)\n",
    "    mulx=mulx+muly+mulz\n",
    "    a=math.prod(mulx)\n",
    "    return a\n"
   ]
  },
  {
   "cell_type": "code",
   "execution_count": 61,
   "id": "786de191",
   "metadata": {},
   "outputs": [
    {
     "data": {
      "text/plain": [
       "500"
      ]
     },
     "execution_count": 61,
     "metadata": {},
     "output_type": "execute_result"
    }
   ],
   "source": [
    "lcmTwo(250,500)"
   ]
  },
  {
   "cell_type": "code",
   "execution_count": 62,
   "id": "8cdb6578",
   "metadata": {},
   "outputs": [
    {
     "data": {
      "text/plain": [
       "300"
      ]
     },
     "execution_count": 62,
     "metadata": {},
     "output_type": "execute_result"
    }
   ],
   "source": [
    "lcmThree(20,30,50)"
   ]
  },
  {
   "cell_type": "markdown",
   "id": "0620b83d",
   "metadata": {},
   "source": [
    "Write a Python Program to Find HCF?"
   ]
  },
  {
   "cell_type": "code",
   "execution_count": 74,
   "id": "4a14909a",
   "metadata": {},
   "outputs": [
    {
     "data": {
      "text/plain": [
       "12"
      ]
     },
     "execution_count": 74,
     "metadata": {},
     "output_type": "execute_result"
    }
   ],
   "source": [
    "def hcfTwo(x,y):\n",
    "    mulx=multiple(x)\n",
    "    muly=multiple(y)\n",
    "    l=[]\n",
    "    for i in mulx:\n",
    "        if i in muly:\n",
    "            l.append(i)\n",
    "            muly.remove(i)\n",
    "    a=math.prod(l)\n",
    "    return a\n",
    "hcfTwo(60,72)"
   ]
  },
  {
   "cell_type": "code",
   "execution_count": 77,
   "id": "461040a3",
   "metadata": {},
   "outputs": [
    {
     "data": {
      "text/plain": [
       "5"
      ]
     },
     "execution_count": 77,
     "metadata": {},
     "output_type": "execute_result"
    }
   ],
   "source": [
    "def hcfThree(x,y,z):\n",
    "    mulx=multiple(x)\n",
    "    muly=multiple(y)\n",
    "    mulz=multiple(z)\n",
    "    l=[]\n",
    "    for i in mulx:\n",
    "        if i in muly and i in mulz:\n",
    "            l.append(i)\n",
    "            muly.remove(i)\n",
    "            mulz.remove(i)\n",
    "    a=math.prod(l)\n",
    "    return a\n",
    "hcfThree(45,50,55)"
   ]
  },
  {
   "cell_type": "code",
   "execution_count": null,
   "id": "a2d79933",
   "metadata": {},
   "outputs": [],
   "source": [
    "Write a Python Program to Convert Decimal to Binary, Octal and Hexadecimal?"
   ]
  },
  {
   "cell_type": "code",
   "execution_count": 28,
   "id": "699df0b8",
   "metadata": {},
   "outputs": [
    {
     "name": "stdout",
     "output_type": "stream",
     "text": [
      "1110110001010\n",
      "16612\n",
      "1D8A\n"
     ]
    }
   ],
   "source": [
    "a=7562\n",
    "# decimal to binary\n",
    "l=a\n",
    "b=\"\"\n",
    "while l!=0:\n",
    "    b=str(l%2)+b\n",
    "    l=int(l/2)\n",
    "print(b)\n",
    "\n",
    "#decimal to octal\n",
    "l=a\n",
    "b=\"\"\n",
    "while l!=0:\n",
    "    b=str(l%8)+b\n",
    "    l=int(l/8)\n",
    "print(b)\n",
    "\n",
    "#decimal to hexa decimal\n",
    "\n",
    "l=a\n",
    "b=\"\"\n",
    "while l!=0:\n",
    "    c=l%16\n",
    "    if c==10:\n",
    "        c=\"A\"\n",
    "    elif c==11:\n",
    "        c=\"B\"\n",
    "    elif c==12:\n",
    "        c=\"C\"\n",
    "    elif c==13:\n",
    "        c=\"D\"\n",
    "    elif c==14:\n",
    "        c=\"E\"\n",
    "    elif c==15:\n",
    "        c==\"F\"\n",
    "    b=str(c)+b\n",
    "    l=int(l/16)\n",
    "print(b)\n",
    "    \n",
    "    "
   ]
  },
  {
   "cell_type": "markdown",
   "id": "f6c80076",
   "metadata": {},
   "source": [
    "Write a Python Program To Find ASCII value of a character?"
   ]
  },
  {
   "cell_type": "code",
   "execution_count": 37,
   "id": "96229692",
   "metadata": {},
   "outputs": [
    {
     "data": {
      "text/plain": [
       "56"
      ]
     },
     "execution_count": 37,
     "metadata": {},
     "output_type": "execute_result"
    }
   ],
   "source": [
    "def ascii_val(a):\n",
    "     return ord(str(a))\n",
    "ascii_val(6)"
   ]
  },
  {
   "cell_type": "markdown",
   "id": "e8e12971",
   "metadata": {},
   "source": [
    "Write a Python Program to Make a Simple Calculator with 4 basic mathematical operations?"
   ]
  },
  {
   "cell_type": "code",
   "execution_count": 46,
   "id": "5d56bb9d",
   "metadata": {},
   "outputs": [
    {
     "name": "stdout",
     "output_type": "stream",
     "text": [
      "Enter first number56\n",
      "Enter the operation*\n",
      "ENter the second number2\n"
     ]
    },
    {
     "data": {
      "text/plain": [
       "112"
      ]
     },
     "execution_count": 46,
     "metadata": {},
     "output_type": "execute_result"
    }
   ],
   "source": [
    "def calculator():\n",
    "    first=int(input(\"Enter first number\"))\n",
    "    op=str(input(\"Enter the operation\")).lower()\n",
    "    second=int(input(\"ENter the second number\"))\n",
    "    if op==\"+\" or op.startswith(\"add\"):\n",
    "        return first+second\n",
    "    elif op==\"-\" or op.startswith(\"sub\"):\n",
    "        return first-second\n",
    "    elif op==\"*\" or op.startswith(\"mul\"):\n",
    "        return first*second\n",
    "    elif op==\"*\" or op.startswith(\"div\"):\n",
    "        return first/second\n",
    "\n",
    "calculator()\n",
    "    \n",
    "        "
   ]
  },
  {
   "cell_type": "code",
   "execution_count": null,
   "id": "3d713b72",
   "metadata": {},
   "outputs": [],
   "source": []
  },
  {
   "cell_type": "code",
   "execution_count": null,
   "id": "f1106888",
   "metadata": {},
   "outputs": [],
   "source": []
  },
  {
   "cell_type": "code",
   "execution_count": null,
   "id": "db43d4ee",
   "metadata": {},
   "outputs": [],
   "source": []
  }
 ],
 "metadata": {
  "kernelspec": {
   "display_name": "Python 3 (ipykernel)",
   "language": "python",
   "name": "python3"
  },
  "language_info": {
   "codemirror_mode": {
    "name": "ipython",
    "version": 3
   },
   "file_extension": ".py",
   "mimetype": "text/x-python",
   "name": "python",
   "nbconvert_exporter": "python",
   "pygments_lexer": "ipython3",
   "version": "3.9.7"
  }
 },
 "nbformat": 4,
 "nbformat_minor": 5
}
